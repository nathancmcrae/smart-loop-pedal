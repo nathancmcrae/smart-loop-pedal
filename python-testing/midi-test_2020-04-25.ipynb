{
 "cells": [
  {
   "cell_type": "markdown",
   "metadata": {},
   "source": [
    "The next step is to take a more reasonable midi file, then for each note do the calculations and predict what/when the next note will be. Then compare to the actual next note"
   ]
  },
  {
   "cell_type": "code",
   "execution_count": 1,
   "metadata": {},
   "outputs": [],
   "source": [
    "import mido\n",
    "import matplotlib.pyplot as plt\n",
    "import numpy as np\n",
    "import time\n",
    "\n",
    "import smart_loop_test\n",
    "\n",
    "%matplotlib inline"
   ]
  },
  {
   "cell_type": "code",
   "execution_count": 2,
   "metadata": {},
   "outputs": [],
   "source": [
    "mf = mido.MidiFile('cycle-test_2020-04-15.mid')"
   ]
  },
  {
   "cell_type": "code",
   "execution_count": 3,
   "metadata": {},
   "outputs": [],
   "source": [
    "track = mf.tracks[0]"
   ]
  },
  {
   "cell_type": "code",
   "execution_count": 30,
   "metadata": {},
   "outputs": [],
   "source": [
    "current_time = 0\n",
    "note_ons = []\n",
    "notes = []\n",
    "# The index of each note_on message in track\n",
    "note_is = []\n",
    "\n",
    "for i in range(len(track)):\n",
    "    current_time = current_time + track[i].time\n",
    "    #print(\"{}, time: {}\".format(track[i], current_time))\n",
    "    if(track[i].type == \"note_on\"):\n",
    "        note_ons.append(current_time)\n",
    "        notes.append(track[i].note)\n",
    "        note_is.append(i)"
   ]
  },
  {
   "cell_type": "code",
   "execution_count": 5,
   "metadata": {},
   "outputs": [],
   "source": [
    "us_per_beat = 500000.0\n",
    "seconds_per_tick = 1e-6 * us_per_beat / mf.ticks_per_beat"
   ]
  },
  {
   "cell_type": "code",
   "execution_count": 6,
   "metadata": {},
   "outputs": [],
   "source": [
    "#for i in range(1,len(note_ons)):\n",
    "#    print(i)\n",
    "#    shifts = smart_loop_test.get_sequence_self_overlaps(np.array(note_ons[0:i], dtype=float))\n",
    "#    p = [smart_loop_test.labelled_seq_product(note_ons[:i], notes[:i], s, 50) for s in shifts]   "
   ]
  },
  {
   "cell_type": "code",
   "execution_count": 7,
   "metadata": {},
   "outputs": [],
   "source": [
    "i = 50\n",
    "shifts, next_is = smart_loop_test.get_sequence_self_overlaps(np.array(note_ons[0:i], dtype=float))\n",
    "p = [smart_loop_test.labelled_seq_product(note_ons[:i], notes[:i], s, i) for s in shifts]   "
   ]
  },
  {
   "cell_type": "code",
   "execution_count": 8,
   "metadata": {},
   "outputs": [],
   "source": [
    "max_prod = np.argmax(p)\n",
    "period = shifts[max_prod]"
   ]
  },
  {
   "cell_type": "markdown",
   "metadata": {},
   "source": [
    "Now that we know what the period is, what is the index of the 'next' note in the sequence.\n",
    "\n",
    "In fact, we should be able to get at least two of these (more from the current sequence). What is the period in indices? It should be max_prod, right?\n",
    "\n",
    "(At some point we'll have to deal with the fact we have other messages than note_ons).\n",
    "\n"
   ]
  },
  {
   "cell_type": "code",
   "execution_count": 43,
   "metadata": {},
   "outputs": [],
   "source": [
    "next_i = next_is[max_prod]\n",
    "# \\forall j, notes[next_is[max_prod] + j] == notes[i + j]\n",
    "\n",
    "# This is the index of the next shift that produces a repetition\n",
    "# TODO handle case that it's the last index of shifts (could be a \n",
    "# repetition, or could be that the next repetition is way outside \n",
    "# of the shifts window)\n",
    "nextshift_i = smart_loop_test.glbi(shifts, shifts[max_prod] * 2)\n"
   ]
  },
  {
   "cell_type": "code",
   "execution_count": 56,
   "metadata": {},
   "outputs": [],
   "source": [
    "# What is the sequence that we would create if we pasted a repetition onto \n",
    "splice_track = track[:note_is[next_is[i]]] + track[note_is[next_i]:]"
   ]
  },
  {
   "cell_type": "markdown",
   "metadata": {},
   "source": [
    "That seems to work ok? Hard to tell for sure"
   ]
  },
  {
   "cell_type": "markdown",
   "metadata": {},
   "source": [
    "## Play it"
   ]
  },
  {
   "cell_type": "code",
   "execution_count": 9,
   "metadata": {},
   "outputs": [],
   "source": [
    "port = mido.open_output('Microsoft GS Wavetable Synth 0')"
   ]
  },
  {
   "cell_type": "code",
   "execution_count": 62,
   "metadata": {},
   "outputs": [],
   "source": [
    "for message in splice_track:\n",
    "    if(message.is_meta):\n",
    "        continue\n",
    "    time.sleep(message.time * seconds_per_tick)\n",
    "    port.send(message)\n",
    "    "
   ]
  }
 ],
 "metadata": {
  "kernelspec": {
   "display_name": "Python 3",
   "language": "python",
   "name": "python3"
  },
  "language_info": {
   "codemirror_mode": {
    "name": "ipython",
    "version": 3
   },
   "file_extension": ".py",
   "mimetype": "text/x-python",
   "name": "python",
   "nbconvert_exporter": "python",
   "pygments_lexer": "ipython3",
   "version": "3.7.6"
  }
 },
 "nbformat": 4,
 "nbformat_minor": 4
}
