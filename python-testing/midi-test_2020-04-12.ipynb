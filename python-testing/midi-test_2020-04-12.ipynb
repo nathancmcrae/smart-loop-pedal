{
 "cells": [
  {
   "cell_type": "code",
   "execution_count": 1,
   "metadata": {},
   "outputs": [],
   "source": [
    "import mido\n",
    "import matplotlib.pyplot as plt\n",
    "import numpy as np\n",
    "\n",
    "%matplotlib inline"
   ]
  },
  {
   "cell_type": "markdown",
   "metadata": {},
   "source": [
    "use https://mido.readthedocs.io/en/latest/ for midi management"
   ]
  },
  {
   "cell_type": "code",
   "execution_count": 2,
   "metadata": {},
   "outputs": [],
   "source": [
    "mf = mido.MidiFile('cycle-test.mid')\n",
    "#mf.ticks_per_beat = 960"
   ]
  },
  {
   "cell_type": "markdown",
   "metadata": {},
   "source": [
    "First, plot the deltas to get a sense of what the legitimate spacing is so we can get an idea of how wide our window should be."
   ]
  },
  {
   "cell_type": "code",
   "execution_count": 3,
   "metadata": {},
   "outputs": [],
   "source": [
    "track = mf.tracks[0]"
   ]
  },
  {
   "cell_type": "code",
   "execution_count": 4,
   "metadata": {},
   "outputs": [],
   "source": [
    "current_time = 0\n",
    "note_ons = []\n",
    "for i in range(len(track)):\n",
    "    current_time = current_time + track[i].time\n",
    "    #print(\"{}, time: {}\".format(track[i], current_time))\n",
    "    if(track[i].type == \"note_on\"):\n",
    "        note_ons.append(current_time)"
   ]
  },
  {
   "cell_type": "markdown",
   "metadata": {},
   "source": [
    "Why do the time values of the messages not seem to be affected by ticks_per_beat?\n",
    "\n",
    "Should do according to https://mido.readthedocs.io/en/latest/midi_files.html#tempo-and-beat-resolution"
   ]
  },
  {
   "cell_type": "code",
   "execution_count": 5,
   "metadata": {},
   "outputs": [
    {
     "data": {
      "text/plain": [
       "(array([ 20.,  31.,  41.,  98., 168., 235., 296., 301., 283., 185., 126.,\n",
       "         59.,  19.,  15.,   2.,   1.,   0.,   5.,   0.,   2.,   2.,   1.,\n",
       "          1.,   1.,   1.,   1.,   1.,   0.,   0.,   1.,   1.,   0.,   0.,\n",
       "          1.,   0.,   1.,   0.,   0.,   0.,   0.]),\n",
       " array([   0.,   25.,   50.,   75.,  100.,  125.,  150.,  175.,  200.,\n",
       "         225.,  250.,  275.,  300.,  325.,  350.,  375.,  400.,  425.,\n",
       "         450.,  475.,  500.,  525.,  550.,  575.,  600.,  625.,  650.,\n",
       "         675.,  700.,  725.,  750.,  775.,  800.,  825.,  850.,  875.,\n",
       "         900.,  925.,  950.,  975., 1000.]),\n",
       " <a list of 40 Patch objects>)"
      ]
     },
     "execution_count": 5,
     "metadata": {},
     "output_type": "execute_result"
    },
    {
     "data": {
      "image/png": "[encoded data removed]",
      "text/plain": [
       "<Figure size 432x288 with 1 Axes>"
      ]
     },
     "metadata": {
      "needs_background": "light"
     },
     "output_type": "display_data"
    }
   ],
   "source": [
    "dt = np.diff(note_ons)\n",
    "plt.hist(dt, range = (0, 1000), bins = 40)"
   ]
  },
  {
   "cell_type": "markdown",
   "metadata": {},
   "source": [
    "Looks like we want our window to be < 400, maybe substantially less."
   ]
  },
  {
   "cell_type": "code",
   "execution_count": null,
   "metadata": {},
   "outputs": [],
   "source": []
  }
 ],
 "metadata": {
  "kernelspec": {
   "display_name": "Python 3",
   "language": "python",
   "name": "python3"
  },
  "language_info": {
   "codemirror_mode": {
    "name": "ipython",
    "version": 3
   },
   "file_extension": ".py",
   "mimetype": "text/x-python",
   "name": "python",
   "nbconvert_exporter": "python",
   "pygments_lexer": "ipython3",
   "version": "3.7.4"
  }
 },
 "nbformat": 4,
 "nbformat_minor": 4
}
