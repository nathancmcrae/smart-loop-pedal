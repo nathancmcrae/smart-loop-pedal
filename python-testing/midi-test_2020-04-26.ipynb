{
 "cells": [
  {
   "cell_type": "markdown",
   "metadata": {},
   "source": [
    "Now that I can predict what the next notes are, how about I do that indefinitely?"
   ]
  },
  {
   "cell_type": "code",
   "execution_count": 3,
   "metadata": {},
   "outputs": [],
   "source": [
    "import mido\n",
    "import matplotlib.pyplot as plt\n",
    "import numpy as np\n",
    "import time\n",
    "\n",
    "import smart_loop_test\n",
    "\n",
    "%matplotlib inline"
   ]
  },
  {
   "cell_type": "code",
   "execution_count": 4,
   "metadata": {},
   "outputs": [],
   "source": [
    "mf = mido.MidiFile('cycle-test_2020-04-15.mid')"
   ]
  },
  {
   "cell_type": "code",
   "execution_count": 5,
   "metadata": {},
   "outputs": [],
   "source": [
    "track = mf.tracks[0]"
   ]
  },
  {
   "cell_type": "code",
   "execution_count": 6,
   "metadata": {},
   "outputs": [],
   "source": [
    "current_time = 0\n",
    "note_ons = []\n",
    "notes = []\n",
    "# The index of each note_on message in track\n",
    "note_is = []\n",
    "\n",
    "for i in range(len(track)):\n",
    "    current_time = current_time + track[i].time\n",
    "    #print(\"{}, time: {}\".format(track[i], current_time))\n",
    "    if(track[i].type == \"note_on\"):\n",
    "        note_ons.append(current_time)\n",
    "        notes.append(track[i].note)\n",
    "        note_is.append(i)"
   ]
  },
  {
   "cell_type": "code",
   "execution_count": 7,
   "metadata": {},
   "outputs": [],
   "source": [
    "us_per_beat = 500000.0\n",
    "seconds_per_tick = 1e-6 * us_per_beat / mf.ticks_per_beat"
   ]
  },
  {
   "cell_type": "code",
   "execution_count": 17,
   "metadata": {},
   "outputs": [],
   "source": [
    "fake_end_i = 50\n",
    "shifts, next_is = smart_loop_test.get_sequence_self_overlaps(np.array(note_ons[0:fake_end_i], dtype=float))\n",
    "p = [smart_loop_test.labelled_seq_product(note_ons[:fake_end_i], notes[:fake_end_i], s, fake_end_i) for s in shifts]   "
   ]
  },
  {
   "cell_type": "code",
   "execution_count": 18,
   "metadata": {},
   "outputs": [],
   "source": [
    "max_prod = np.argmax(p)\n",
    "period = shifts[max_prod]"
   ]
  },
  {
   "cell_type": "code",
   "execution_count": 19,
   "metadata": {},
   "outputs": [],
   "source": [
    "next_i = next_is[max_prod]\n",
    "# \\forall j, notes[next_is[max_prod] + j] == notes[i + j]\n"
   ]
  },
  {
   "cell_type": "code",
   "execution_count": 44,
   "metadata": {},
   "outputs": [],
   "source": [
    "# play all notes from the start then repeating [repeat_starti, repeat_endi)\n",
    "def thisisthesongthatneverends(track, repeat_starti, repeat_endi):\n",
    "    assert(repeat_starti >= 0 and repeat_starti < len(track))\n",
    "    assert(repeat_endi >= 0 and repeat_endi < len(track))\n",
    "    i = 0\n",
    "    length = (repeat_endi - repeat_starti)\n",
    "    while True:\n",
    "        #print(i)\n",
    "        yield track[i]\n",
    "        i = i + 1\n",
    "        if i >= repeat_starti:\n",
    "            #print(\"i: {}\\nrepeat_starti: {}\\nrepeat_endi: {}\\nlength: {}\".format(i, repeat_starti, repeat_endi, length))\n",
    "            #print(\"a: {}\".format(repeat_starti + ((i - repeat_starti) % length)))\n",
    "            i = repeat_starti + ((i - repeat_starti) % length)"
   ]
  },
  {
   "cell_type": "markdown",
   "metadata": {},
   "source": [
    "## Play it"
   ]
  },
  {
   "cell_type": "code",
   "execution_count": 12,
   "metadata": {},
   "outputs": [],
   "source": [
    "port = mido.open_output('Microsoft GS Wavetable Synth 0')"
   ]
  },
  {
   "cell_type": "code",
   "execution_count": 45,
   "metadata": {},
   "outputs": [
    {
     "ename": "KeyboardInterrupt",
     "evalue": "",
     "output_type": "error",
     "traceback": [
      "\u001b[1;31m---------------------------------------------------------------------------\u001b[0m",
      "\u001b[1;31mKeyboardInterrupt\u001b[0m                         Traceback (most recent call last)",
      "\u001b[1;32m<ipython-input-45-560d71a3d8aa>\u001b[0m in \u001b[0;36m<module>\u001b[1;34m\u001b[0m\n\u001b[0;32m      2\u001b[0m     \u001b[1;32mif\u001b[0m\u001b[1;33m(\u001b[0m\u001b[0mmessage\u001b[0m\u001b[1;33m.\u001b[0m\u001b[0mis_meta\u001b[0m\u001b[1;33m)\u001b[0m\u001b[1;33m:\u001b[0m\u001b[1;33m\u001b[0m\u001b[1;33m\u001b[0m\u001b[0m\n\u001b[0;32m      3\u001b[0m         \u001b[1;32mcontinue\u001b[0m\u001b[1;33m\u001b[0m\u001b[1;33m\u001b[0m\u001b[0m\n\u001b[1;32m----> 4\u001b[1;33m     \u001b[0mtime\u001b[0m\u001b[1;33m.\u001b[0m\u001b[0msleep\u001b[0m\u001b[1;33m(\u001b[0m\u001b[0mmessage\u001b[0m\u001b[1;33m.\u001b[0m\u001b[0mtime\u001b[0m \u001b[1;33m*\u001b[0m \u001b[0mseconds_per_tick\u001b[0m\u001b[1;33m)\u001b[0m\u001b[1;33m\u001b[0m\u001b[1;33m\u001b[0m\u001b[0m\n\u001b[0m\u001b[0;32m      5\u001b[0m     \u001b[0mport\u001b[0m\u001b[1;33m.\u001b[0m\u001b[0msend\u001b[0m\u001b[1;33m(\u001b[0m\u001b[0mmessage\u001b[0m\u001b[1;33m)\u001b[0m\u001b[1;33m\u001b[0m\u001b[1;33m\u001b[0m\u001b[0m\n\u001b[0;32m      6\u001b[0m \u001b[1;33m\u001b[0m\u001b[0m\n",
      "\u001b[1;31mKeyboardInterrupt\u001b[0m: "
     ]
    }
   ],
   "source": [
    "for message in thisisthesongthatneverends(track, note_is[next_i], note_is[fake_end_i]):\n",
    "    if(message.is_meta):\n",
    "        continue\n",
    "    time.sleep(message.time * seconds_per_tick)\n",
    "    port.send(message)\n",
    "    "
   ]
  },
  {
   "cell_type": "markdown",
   "metadata": {},
   "source": [
    "That actually seems to work! yay!"
   ]
  },
  {
   "cell_type": "markdown",
   "metadata": {},
   "source": [
    "Now what?\n",
    "\n",
    "- Look at what the pure-data interface looks like so we can figure out how to adapt this to it\n",
    "- Maybe make incremental versions of these algorithms so we can calculate as we go along instead of having to do bulk calculations."
   ]
  }
 ],
 "metadata": {
  "kernelspec": {
   "display_name": "Python 3",
   "language": "python",
   "name": "python3"
  },
  "language_info": {
   "codemirror_mode": {
    "name": "ipython",
    "version": 3
   },
   "file_extension": ".py",
   "mimetype": "text/x-python",
   "name": "python",
   "nbconvert_exporter": "python",
   "pygments_lexer": "ipython3",
   "version": "3.7.6"
  }
 },
 "nbformat": 4,
 "nbformat_minor": 4
}
