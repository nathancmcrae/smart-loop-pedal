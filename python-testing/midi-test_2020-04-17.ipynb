{
 "cells": [
  {
   "cell_type": "code",
   "execution_count": 1,
   "metadata": {},
   "outputs": [],
   "source": [
    "import mido\n",
    "import matplotlib.pyplot as plt\n",
    "import numpy as np\n",
    "import time\n",
    "\n",
    "import smart_loop_test\n",
    "\n",
    "%matplotlib inline"
   ]
  },
  {
   "cell_type": "code",
   "execution_count": 2,
   "metadata": {},
   "outputs": [],
   "source": [
    "mf = mido.MidiFile('cycle-test.mid')"
   ]
  },
  {
   "cell_type": "code",
   "execution_count": 3,
   "metadata": {},
   "outputs": [],
   "source": [
    "track = mf.tracks[0]"
   ]
  },
  {
   "cell_type": "code",
   "execution_count": 4,
   "metadata": {},
   "outputs": [],
   "source": [
    "current_time = 0\n",
    "note_ons = []\n",
    "notes = []\n",
    "for i in range(len(track)):\n",
    "    current_time = current_time + track[i].time\n",
    "    #print(\"{}, time: {}\".format(track[i], current_time))\n",
    "    if(track[i].type == \"note_on\"):\n",
    "        note_ons.append(current_time)\n",
    "        notes.append(track[i].note)"
   ]
  },
  {
   "cell_type": "code",
   "execution_count": 5,
   "metadata": {},
   "outputs": [],
   "source": [
    "shifts = list(range(0,4000,100))\n",
    "#p = [smart_loop_test.self_product_shift(note_ons, s, 50) for s in shifts]\n",
    "#plt.plot(shifts, p)"
   ]
  },
  {
   "cell_type": "code",
   "execution_count": 6,
   "metadata": {},
   "outputs": [],
   "source": [
    "shifts = list(range(0,4000,100))\n",
    "#p = [smart_loop_test.labelled_seq_product(note_ons, notes, s, 50) for s in shifts]\n",
    "#plt.plot(shifts, p)"
   ]
  },
  {
   "cell_type": "markdown",
   "metadata": {},
   "source": [
    "Neat!, that looks much more interesting. I wonder what all those peaks are?\n",
    "\n",
    "I'm guessing that the second one is our actual period, where the first one is some sub-pattern that is an almost repetition.\n",
    "\n",
    "Not sure what the rest are"
   ]
  },
  {
   "cell_type": "markdown",
   "metadata": {},
   "source": [
    "Oh, duh. They're just harmonics 🤦.   "
   ]
  },
  {
   "cell_type": "markdown",
   "metadata": {},
   "source": [
    "For a better view, do only the shifts that result in impulse overlap (one of those is guaranteed to be our maximum)."
   ]
  },
  {
   "cell_type": "code",
   "execution_count": 7,
   "metadata": {},
   "outputs": [],
   "source": [
    "#shifts = smart_loop_test.get_sequence_self_overlaps(np.array(note_ons, dtype=float))\n",
    "#p = [smart_loop_test.labelled_seq_product(note_ons, notes, s, 50) for s in shifts]\n",
    "#plt.plot(shifts, p)"
   ]
  },
  {
   "cell_type": "code",
   "execution_count": 8,
   "metadata": {},
   "outputs": [
    {
     "data": {
      "text/plain": [
       "40"
      ]
     },
     "execution_count": 8,
     "metadata": {},
     "output_type": "execute_result"
    }
   ],
   "source": [
    "len(shifts)"
   ]
  },
  {
   "cell_type": "markdown",
   "metadata": {},
   "source": [
    "Ouch, I think that's quadratic"
   ]
  },
  {
   "cell_type": "code",
   "execution_count": 9,
   "metadata": {},
   "outputs": [
    {
     "data": {
      "text/plain": [
       "3610000"
      ]
     },
     "execution_count": 9,
     "metadata": {},
     "output_type": "execute_result"
    }
   ],
   "source": [
    "1900**2"
   ]
  },
  {
   "cell_type": "markdown",
   "metadata": {},
   "source": [
    "Well, not worst case anyway."
   ]
  },
  {
   "cell_type": "markdown",
   "metadata": {},
   "source": [
    "Need some sense of scale. What's my time unit anyway?"
   ]
  },
  {
   "cell_type": "code",
   "execution_count": 10,
   "metadata": {},
   "outputs": [
    {
     "data": {
      "text/plain": [
       "960"
      ]
     },
     "execution_count": 10,
     "metadata": {},
     "output_type": "execute_result"
    }
   ],
   "source": [
    "us_per_beat = 500000.0\n",
    "mf.ticks_per_beat"
   ]
  },
  {
   "cell_type": "code",
   "execution_count": 11,
   "metadata": {},
   "outputs": [
    {
     "data": {
      "text/plain": [
       "520.8333333333334"
      ]
     },
     "execution_count": 11,
     "metadata": {},
     "output_type": "execute_result"
    }
   ],
   "source": [
    "us_per_tick = us_per_beat / mf.ticks_per_beat\n",
    "us_per_tick"
   ]
  },
  {
   "cell_type": "code",
   "execution_count": 12,
   "metadata": {},
   "outputs": [
    {
     "data": {
      "text/plain": [
       "181.2421875"
      ]
     },
     "execution_count": 12,
     "metadata": {},
     "output_type": "execute_result"
    }
   ],
   "source": [
    "note_ons[-1] * us_per_tick / 1E6"
   ]
  },
  {
   "cell_type": "markdown",
   "metadata": {},
   "source": [
    "That's 3 minutes, which is fairly long. I'd expect the longest loop I'd be interested in supporting would be like 15s, so I need a ~30s buffer to analyze."
   ]
  },
  {
   "cell_type": "code",
   "execution_count": 13,
   "metadata": {},
   "outputs": [
    {
     "name": "stdout",
     "output_type": "stream",
     "text": [
      "57600.0\n",
      "280\n",
      "57491\n"
     ]
    }
   ],
   "source": [
    "ticks_30s = 30E6 * mf.ticks_per_beat / us_per_beat\n",
    "print(ticks_30s)\n",
    "i_30s = smart_loop_test.glbi(note_ons, ticks_30s)\n",
    "print(i_30s)\n",
    "note_ons[i_30s]\n",
    "print(note_ons[i_30s])"
   ]
  },
  {
   "cell_type": "markdown",
   "metadata": {},
   "source": [
    "Looks good"
   ]
  },
  {
   "cell_type": "code",
   "execution_count": 14,
   "metadata": {},
   "outputs": [
    {
     "data": {
      "text/plain": [
       "8.951072692871094"
      ]
     },
     "execution_count": 14,
     "metadata": {},
     "output_type": "execute_result"
    }
   ],
   "source": [
    "start = time.time()\n",
    "\n",
    "shifts,next_is = smart_loop_test.get_sequence_self_overlaps(np.array(note_ons[:i_30s], dtype=float))\n",
    "\n",
    "finish = time.time()\n",
    "duration = finish - start\n",
    "duration"
   ]
  },
  {
   "cell_type": "markdown",
   "metadata": {},
   "source": [
    "Well, that's good so far, what about the rest?"
   ]
  },
  {
   "cell_type": "code",
   "execution_count": 15,
   "metadata": {},
   "outputs": [
    {
     "name": "stdout",
     "output_type": "stream",
     "text": [
      "223.80180263519287\n"
     ]
    },
    {
     "data": {
      "text/plain": [
       "[<matplotlib.lines.Line2D at 0x2777892d908>]"
      ]
     },
     "execution_count": 15,
     "metadata": {},
     "output_type": "execute_result"
    },
    {
     "data": {
      "image/png": "[encoded data removed]",
      "text/plain": [
       "<Figure size 432x288 with 1 Axes>"
      ]
     },
     "metadata": {
      "needs_background": "light"
     },
     "output_type": "display_data"
    }
   ],
   "source": [
    "start = time.time()\n",
    "\n",
    "p = [smart_loop_test.labelled_seq_product(note_ons[:i_30s], notes[:i_30s], s, 50) for s in shifts]\n",
    "\n",
    "finish = time.time()\n",
    "duration = finish - start\n",
    "print(duration)\n",
    "\n",
    "plt.plot(shifts, p)"
   ]
  },
  {
   "cell_type": "markdown",
   "metadata": {},
   "source": [
    "Ouch, not great. Probably time to re-write glbi to be a binary search"
   ]
  },
  {
   "cell_type": "markdown",
   "metadata": {},
   "source": [
    "Without binary-search-glbi it was 868s, so definitely an improvement."
   ]
  },
  {
   "cell_type": "markdown",
   "metadata": {},
   "source": [
    "Also, this recording is pretty ridiculous. Definitely at the higher end of note frequency. As well, I currently have all those asserts in there. Not sure how much time that takes up."
   ]
  }
 ],
 "metadata": {
  "kernelspec": {
   "display_name": "Python 3",
   "language": "python",
   "name": "python3"
  },
  "language_info": {
   "codemirror_mode": {
    "name": "ipython",
    "version": 3
   },
   "file_extension": ".py",
   "mimetype": "text/x-python",
   "name": "python",
   "nbconvert_exporter": "python",
   "pygments_lexer": "ipython3",
   "version": "3.7.4"
  }
 },
 "nbformat": 4,
 "nbformat_minor": 4
}
