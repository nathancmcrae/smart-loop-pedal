{
 "cells": [
  {
   "cell_type": "markdown",
   "metadata": {},
   "source": [
    "We want to compare two impulse sequences to see how 'close' they are.\n",
    "\n",
    "We don't care about normalization because we actually want a longer sequence to be 'more similar' to itself than a shorter sequence"
   ]
  },
  {
   "cell_type": "code",
   "execution_count": 3,
   "metadata": {},
   "outputs": [],
   "source": [
    "%matplotlib inline\n",
    "\n",
    "import scipy as sp\n",
    "import numpy as np\n",
    "import matplotlib.pyplot as plt"
   ]
  },
  {
   "cell_type": "code",
   "execution_count": 4,
   "metadata": {},
   "outputs": [],
   "source": [
    "WINDOW_LEN = 9.0"
   ]
  },
  {
   "cell_type": "code",
   "execution_count": 5,
   "metadata": {},
   "outputs": [
    {
     "data": {
      "text/plain": [
       "array([  5.,   9.,  19.,  39.,  69.,  89.,  94.,  98., 108., 128., 158.,\n",
       "       178., 183., 187.])"
      ]
     },
     "execution_count": 5,
     "metadata": {},
     "output_type": "execute_result"
    }
   ],
   "source": [
    "# do it dum first\n",
    "dx = [5.0,4.0,10.0,20.0,30.0,20.0,5.0,4.0,10.0,20.0,30.0,20.0,5.0,4.0]\n",
    "x = np.cumsum(dx)\n",
    "x"
   ]
  },
  {
   "cell_type": "code",
   "execution_count": 6,
   "metadata": {},
   "outputs": [],
   "source": [
    "# Greatest Lower Bound Index\n",
    "# returns the index of the largest value in xs that is <= v\n",
    "# xs must be sorted ascending\n",
    "#\n",
    "# if v is < xs[0], then return -1\n",
    "#\n",
    "# TODO: make this a binary search\n",
    "def glbi(xs, v):\n",
    "    for i in range(len(xs)):\n",
    "        assert(i == 0 or xs[i - 1] <= xs[i])\n",
    "        if(xs[i] > v):\n",
    "            assert(i == 0 or x[i-1] <= v)\n",
    "            assert(i == len(xs) or xs[i] > v)\n",
    "            return i - 1\n",
    "    return len(xs) - 1\n"
   ]
  },
  {
   "cell_type": "code",
   "execution_count": 7,
   "metadata": {},
   "outputs": [],
   "source": [
    "# Test glbi\n",
    "\n",
    "def testpoints_gen(xs):\n",
    "    for i in range(len(xs)):\n",
    "        yield xs[i]\n",
    "        if(i != len(xs) - 1):\n",
    "            yield (xs[i] + xs[i + 1])/2\n",
    "\n",
    "# Each element in x twice\n",
    "stutter = lambda x: [j for k in [[i, i] for i in x] for j in k ]            \n",
    "            \n",
    "testpoints = [x[0] - 1] + list(testpoints_gen(x)) + [x[-1] + 1]\n",
    "test_answers = [-1] + list(stutter(range(0, len(x))))\n",
    "\n",
    "answered = [glbi(x, v) for v in testpoints]\n",
    "\n",
    "assert(answered == test_answers)"
   ]
  },
  {
   "cell_type": "markdown",
   "metadata": {},
   "source": [
    "## objective function"
   ]
  },
  {
   "cell_type": "markdown",
   "metadata": {},
   "source": [
    "$$ f(v, w) = max(0, 1 - \\frac{2 | v - w | }{ WINDOW\\_LEN}) $$"
   ]
  },
  {
   "cell_type": "code",
   "execution_count": 8,
   "metadata": {},
   "outputs": [],
   "source": [
    "def f(v, w):\n",
    "    return max(0, 1 - 2 * np.abs(v - w) / WINDOW_LEN)"
   ]
  },
  {
   "cell_type": "markdown",
   "metadata": {},
   "source": [
    "## The Product"
   ]
  },
  {
   "cell_type": "code",
   "execution_count": 9,
   "metadata": {},
   "outputs": [],
   "source": [
    "# For each point in the shifted sequence, get all points in the \n",
    "# original sequence within the window. Then take the sum of the \n",
    "# objective function between the shifted point and all the original \n",
    "# points in its window\n",
    "#\n",
    "#   *  *     * *    * **       Original sequence\n",
    "#      +     + +               Points pairs summed\n",
    "#    |     V     |             Window for shifted point\n",
    "#       *  *     * *    * **   Shifted sequence\n",
    "def self_product_shift(x, shift):\n",
    "    product = 0\n",
    "    #print(\"shift: {}\".format(shift))\n",
    "    for i in range(len(x)):\n",
    "        v = x[i] + shift\n",
    "        #print(\"i: {}\".format(i))\n",
    "        #print(\"v: {}\".format(v))\n",
    "        \n",
    "        lbi = glbi(x,v - WINDOW_LEN/2) + 1\n",
    "        lbi = min(max(0, lbi), len(x) - 1)\n",
    "        \n",
    "        #print(\"lbi: {}\".format(lbi))\n",
    "        #print(\"x[lbi]: {}\".format(x[lbi]))\n",
    "        \n",
    "        assert(lbi == len(x) - 1 or x[lbi] >= v - WINDOW_LEN/2)\n",
    "        assert(lbi == 0 or x[lbi - 1] <= v - WINDOW_LEN/2)\n",
    "\n",
    "        ubi = glbi(x, v + WINDOW_LEN/2) + 1\n",
    "        ubi = min(len(x) - 1, ubi)\n",
    "        \n",
    "        #print(\"ubi: {}\".format(ubi))\n",
    "        #print(\"x[ubi]: {}\".format(x[ubi]))\n",
    "        \n",
    "        assert(ubi == 0 or x[ubi-1] <= v + WINDOW_LEN/2)\n",
    "        assert(ubi == len(x) - 1 or x[ubi] > v + WINDOW_LEN/2)\n",
    "\n",
    "        point_product = 0\n",
    "        for j in range(lbi, min(len(x) - 1, ubi)):\n",
    "            if(j == i):\n",
    "                continue\n",
    "            assert(f(v, x[j]) >= 0) \n",
    "            #print(\"f(x[{}], x[{}] == {}\".format(v, x[j], f(v, x[j])))\n",
    "            point_product = point_product + f(v, x[j])\n",
    "\n",
    "\n",
    "        product = product + point_product\n",
    "        #print(\"product: {}\".format(product))\n",
    "    return product"
   ]
  },
  {
   "cell_type": "code",
   "execution_count": 10,
   "metadata": {},
   "outputs": [
    {
     "data": {
      "text/plain": [
       "3.0"
      ]
     },
     "execution_count": 10,
     "metadata": {},
     "output_type": "execute_result"
    }
   ],
   "source": [
    "# shifted_signal = signal + shift\n",
    "shift = 4\n",
    "self_product_shift(x, 10)"
   ]
  },
  {
   "cell_type": "code",
   "execution_count": 12,
   "metadata": {},
   "outputs": [
    {
     "data": {
      "text/plain": [
       "[<matplotlib.lines.Line2D at 0x1fbae4a73c8>]"
      ]
     },
     "execution_count": 12,
     "metadata": {},
     "output_type": "execute_result"
    },
    {
     "data": {
      "image/png": "[encoded data removed]",
      "text/plain": [
       "<Figure size 432x288 with 1 Axes>"
      ]
     },
     "metadata": {
      "needs_background": "light"
     },
     "output_type": "display_data"
    }
   ],
   "source": [
    "products = [self_product_shift(x, shift) for shift in range(100)]\n",
    "\n",
    "[\"{} : {}\".format(shift, self_product_shift(x, shift)) for shift in range(100)]\n",
    " \n",
    "    \n",
    "plt.plot(range(100), products)"
   ]
  },
  {
   "cell_type": "markdown",
   "metadata": {},
   "source": [
    "The spike (at 93 I think) is the one we want"
   ]
  }
 ],
 "metadata": {
  "kernelspec": {
   "display_name": "Python 3",
   "language": "python",
   "name": "python3"
  },
  "language_info": {
   "codemirror_mode": {
    "name": "ipython",
    "version": 3
   },
   "file_extension": ".py",
   "mimetype": "text/x-python",
   "name": "python",
   "nbconvert_exporter": "python",
   "pygments_lexer": "ipython3",
   "version": "3.7.4"
  }
 },
 "nbformat": 4,
 "nbformat_minor": 4
}
